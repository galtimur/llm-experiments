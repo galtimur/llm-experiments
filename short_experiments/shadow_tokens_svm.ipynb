{
 "cells": [
  {
   "metadata": {
    "ExecuteTime": {
     "end_time": "2025-03-29T12:47:40.009318Z",
     "start_time": "2025-03-29T12:47:33.467994Z"
    }
   },
   "cell_type": "code",
   "source": [
    "import torch\n",
    "from tqdm import tqdm\n",
    "import numpy as np\n",
    "import gc\n",
    "# from sklearn.svm import LinearSVC\n",
    "from cuml.svm import LinearSVC\n",
    "import numpy as np\n",
    "\n",
    "from transformers import AutoTokenizer, AutoModelForCausalLM\n",
    "from emb_vectors_functions import find_self_embeds, get_shadow_ratios\n",
    "from model_loading import get_weight_by_name"
   ],
   "id": "c8a4c2d3a58c68cd",
   "outputs": [],
   "execution_count": 1
  },
  {
   "metadata": {
    "ExecuteTime": {
     "end_time": "2025-03-29T12:47:43.902066Z",
     "start_time": "2025-03-29T12:47:42.464372Z"
    }
   },
   "cell_type": "code",
   "source": [
    "# \"meta-llama/Llama-3.1-70B\", \"meta-llama/Llama-3.1-8B\"\n",
    "# \"Qwen/Qwen2.5-0.5B-Instruct\", \"Qwen/Qwen2.5-1.5B-Instruct\", \"Qwen/Qwen2.5-3B-Instruct\", \"Qwen/Qwen2.5-7B-Instruct\"\n",
    "# \"Qwen/Qwen2.5-14B-Instruct\", \"Qwen/Qwen2.5-32B-Instruct\", \"Qwen/Qwen2.5-72B-Instruct\"\n",
    "model_name = \"meta-llama/Llama-3.1-70B\"\n",
    "tokenizer = AutoTokenizer.from_pretrained(model_name)\n",
    "embeddings = get_weight_by_name(model_name, \"head\")\n",
    "# embeddings = embeddings.cuda()\n",
    "embeddings = embeddings.float()\n",
    "# embeddings = torch.randn_like(embeddings)\n",
    "embeddings.requires_grad = False"
   ],
   "id": "a2224e6661df7de4",
   "outputs": [
    {
     "data": {
      "text/plain": [
       "Fetching 50 files:   0%|          | 0/50 [00:00<?, ?it/s]"
      ],
      "application/vnd.jupyter.widget-view+json": {
       "version_major": 2,
       "version_minor": 0,
       "model_id": "7d0da561b36245bcb5d2a71c8faf9bdb"
      }
     },
     "metadata": {},
     "output_type": "display_data"
    }
   ],
   "execution_count": 2
  },
  {
   "metadata": {
    "ExecuteTime": {
     "end_time": "2025-03-29T12:47:54.394482Z",
     "start_time": "2025-03-29T12:47:45.534143Z"
    }
   },
   "cell_type": "code",
   "source": [
    "fail_indices, failed_res_emb, failed_pairs = find_self_embeds(embeddings, tokenizer)\n",
    "print(f\"Number of bad embeddings = {len(fail_indices)}\")\n",
    "torch.cuda.empty_cache()\n",
    "gc.collect()"
   ],
   "id": "35320c67765020f1",
   "outputs": [
    {
     "name": "stderr",
     "output_type": "stream",
     "text": [
      "100%|██████████| 13/13 [00:06<00:00,  1.90it/s]\n"
     ]
    },
    {
     "name": "stdout",
     "output_type": "stream",
     "text": [
      "Number of bad embeddings = 1037\n"
     ]
    }
   ],
   "execution_count": 3
  },
  {
   "metadata": {
    "ExecuteTime": {
     "end_time": "2025-03-29T12:49:15.302750Z",
     "start_time": "2025-03-29T12:49:14.166423Z"
    }
   },
   "cell_type": "code",
   "source": [
    "nn = fail_indices[2]\n",
    "nn = 2\n",
    "self_emb = embeddings[nn]\n",
    "X = torch.cat([embeddings[:nn], embeddings[nn+1:]], dim=0)\n",
    "X = self_emb[None, :] - X;"
   ],
   "id": "18ec4fe94b19f688",
   "outputs": [],
   "execution_count": 7
  },
  {
   "metadata": {
    "ExecuteTime": {
     "end_time": "2025-03-29T12:49:20.620453Z",
     "start_time": "2025-03-29T12:49:19.231530Z"
    }
   },
   "cell_type": "code",
   "source": [
    "X_zero = np.zeros((1, X.shape[1]))\n",
    "# метки классов: вектора = +1, ноль = -1\n",
    "X_all = np.vstack([X, X_zero])\n",
    "y_all = np.hstack([np.ones(X.shape[0]), [-1]])"
   ],
   "id": "c0740d763534964d",
   "outputs": [],
   "execution_count": 8
  },
  {
   "metadata": {
    "ExecuteTime": {
     "end_time": "2025-03-29T12:49:41.405662Z",
     "start_time": "2025-03-29T12:49:38.923388Z"
    }
   },
   "cell_type": "code",
   "source": [
    "clf = LinearSVC(C=1e9, max_iter=1000, tol=1e-7)\n",
    "clf.fit(X_all, y_all)\n",
    "pred = clf.predict(X_all)"
   ],
   "id": "51ec90ffd287d4ce",
   "outputs": [],
   "execution_count": 11
  },
  {
   "metadata": {
    "ExecuteTime": {
     "end_time": "2025-03-29T12:49:41.416184Z",
     "start_time": "2025-03-29T12:49:41.412306Z"
    }
   },
   "cell_type": "code",
   "source": [
    "res = (pred != y_all)\n",
    "error_ind = np.where(res)\n",
    "n_errors = res.sum()\n",
    "print(n_errors)"
   ],
   "id": "cae7948089a8e35a",
   "outputs": [
    {
     "name": "stdout",
     "output_type": "stream",
     "text": [
      "1\n"
     ]
    }
   ],
   "execution_count": 12
  },
  {
   "metadata": {
    "ExecuteTime": {
     "end_time": "2025-03-29T11:52:30.871284Z",
     "start_time": "2025-03-29T11:52:30.867209Z"
    }
   },
   "cell_type": "code",
   "source": "",
   "id": "5a20f54c693cfef6",
   "outputs": [],
   "execution_count": 12
  },
  {
   "metadata": {},
   "cell_type": "code",
   "outputs": [],
   "execution_count": null,
   "source": "",
   "id": "1e0b8efd4d227137"
  }
 ],
 "metadata": {
  "kernelspec": {
   "display_name": "Python 3",
   "language": "python",
   "name": "python3"
  },
  "language_info": {
   "codemirror_mode": {
    "name": "ipython",
    "version": 2
   },
   "file_extension": ".py",
   "mimetype": "text/x-python",
   "name": "python",
   "nbconvert_exporter": "python",
   "pygments_lexer": "ipython2",
   "version": "2.7.6"
  }
 },
 "nbformat": 4,
 "nbformat_minor": 5
}
