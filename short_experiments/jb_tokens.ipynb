{
 "cells": [
  {
   "cell_type": "code",
   "id": "initial_id",
   "metadata": {
    "collapsed": true,
    "ExecuteTime": {
     "end_time": "2025-03-31T12:03:58.550477Z",
     "start_time": "2025-03-31T12:03:54.969064Z"
    }
   },
   "source": [
    "import torch\n",
    "from tqdm import tqdm\n",
    "import numpy as np\n",
    "import gc\n",
    "import numpy as np\n",
    "\n",
    "from transformers import AutoTokenizer, AutoModelForCausalLM\n",
    "from emb_vectors_functions import find_self_embeds, get_shadow_ratios\n",
    "from model_loading import get_weight_by_name"
   ],
   "outputs": [],
   "execution_count": 1
  },
  {
   "metadata": {
    "ExecuteTime": {
     "end_time": "2025-03-31T09:57:03.923609Z",
     "start_time": "2025-03-31T09:57:02.332510Z"
    }
   },
   "cell_type": "code",
   "source": [
    "# \"meta-llama/Llama-3.1-70B\", \"meta-llama/Llama-3.1-8B\"\n",
    "# \"Qwen/Qwen2.5-0.5B-Instruct\", \"Qwen/Qwen2.5-1.5B-Instruct\", \"Qwen/Qwen2.5-3B-Instruct\", \"Qwen/Qwen2.5-7B-Instruct\"\n",
    "# \"Qwen/Qwen2.5-14B-Instruct\", \"Qwen/Qwen2.5-32B-Instruct\", \"Qwen/Qwen2.5-72B-Instruct\"\n",
    "model_name = \"meta-llama/Llama-3.1-70B\"\n",
    "tokenizer = AutoTokenizer.from_pretrained(model_name)\n",
    "embeddings = get_weight_by_name(model_name, \"embed\")\n",
    "embeddings = embeddings.cuda()\n",
    "embeddings.requires_grad = False"
   ],
   "id": "ca926e5221a40316",
   "outputs": [
    {
     "data": {
      "text/plain": [
       "Fetching 50 files:   0%|          | 0/50 [00:00<?, ?it/s]"
      ],
      "application/vnd.jupyter.widget-view+json": {
       "version_major": 2,
       "version_minor": 0,
       "model_id": "31d336d83afa41a4b45dd6301b9ae346"
      }
     },
     "metadata": {},
     "output_type": "display_data"
    }
   ],
   "execution_count": 5
  },
  {
   "metadata": {
    "ExecuteTime": {
     "end_time": "2025-03-31T10:18:17.666487Z",
     "start_time": "2025-03-31T10:18:17.651221Z"
    }
   },
   "cell_type": "code",
   "source": [
    "top_k = 11\n",
    "token_id = 36610\n",
    "# token_id = 76224\n",
    "\n",
    "x = embeddings[token_id]\n",
    "w = x @ embeddings.T\n",
    "scores, indices = torch.topk(w, k=top_k)\n",
    "print(f\"Token - '{tokenizer.decode(token_id)}' , id = {token_id}\")\n",
    "[\n",
    "    print(f\"'{tokenizer.decode(ind)}'\", f\"{score.item():.3f}\")\n",
    "    for ind, score in zip(indices, scores)\n",
    "];"
   ],
   "id": "c52bb4d90b5ca1db",
   "outputs": [
    {
     "name": "stdout",
     "output_type": "stream",
     "text": [
      "Token - '.jetbrains' , id = 36610\n",
      "'.jetbrains' 0.891\n",
      "' JetBrains' 0.215\n",
      "'.intellij' 0.179\n",
      "' kotlin' 0.146\n",
      "' kotlinx' 0.137\n",
      "'otlin' 0.122\n",
      "'.eclipse' 0.120\n",
      "' androidx' 0.120\n",
      "'.jboss' 0.118\n",
      "' IntelliJ' 0.117\n",
      "' Kotlin' 0.114\n"
     ]
    }
   ],
   "execution_count": 37
  },
  {
   "metadata": {},
   "cell_type": "code",
   "outputs": [],
   "execution_count": null,
   "source": "",
   "id": "f3a7fc48dbb92f02"
  }
 ],
 "metadata": {
  "kernelspec": {
   "display_name": "Python 3",
   "language": "python",
   "name": "python3"
  },
  "language_info": {
   "codemirror_mode": {
    "name": "ipython",
    "version": 2
   },
   "file_extension": ".py",
   "mimetype": "text/x-python",
   "name": "python",
   "nbconvert_exporter": "python",
   "pygments_lexer": "ipython2",
   "version": "2.7.6"
  }
 },
 "nbformat": 4,
 "nbformat_minor": 5
}
