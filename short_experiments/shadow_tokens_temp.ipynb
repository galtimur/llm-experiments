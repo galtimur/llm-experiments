{
 "cells": [
  {
   "metadata": {
    "ExecuteTime": {
     "end_time": "2025-03-17T20:57:26.698130Z",
     "start_time": "2025-03-17T20:57:09.533395Z"
    }
   },
   "cell_type": "code",
   "source": [
    "import numpy as np\n",
    "import torch\n",
    "from tqdm import tqdm\n",
    "from transformers import AutoModelForCausalLM, AutoTokenizer\n",
    "# from torch.linalg import svd\n",
    "from torch.linalg import svd"
   ],
   "id": "c8a4c2d3a58c68cd",
   "outputs": [],
   "execution_count": 1
  },
  {
   "metadata": {
    "ExecuteTime": {
     "end_time": "2025-03-17T20:57:35.755540Z",
     "start_time": "2025-03-17T20:57:26.702133Z"
    }
   },
   "cell_type": "code",
   "source": [
    "model_name = \"meta-llama/Llama-3.2-1B\" # \"meta-llama/Meta-Llama-3.1-8B\"  # \"meta-llama/Meta-Llama-3.1-8B\" , \"gpt2\", \"meta-llama/Llama-2-7b-hf\" # Example: using GPT-2\n",
    "model = AutoModelForCausalLM.from_pretrained(model_name)\n",
    "tokenizer = AutoTokenizer.from_pretrained(model_name)\n",
    "# %%\n",
    "# Loading embeddings:\n",
    "# embedding = model.model.embed_tokens.weight  # Embedding layer weights\n",
    "head = model.lm_head.weight.detach()  # Output head weights\n",
    "head_norm = head / torch.norm(head)"
   ],
   "id": "b835f2d03816e47b",
   "outputs": [],
   "execution_count": 2
  },
  {
   "metadata": {
    "ExecuteTime": {
     "end_time": "2025-03-17T20:57:36.380607Z",
     "start_time": "2025-03-17T20:57:36.378020Z"
    }
   },
   "cell_type": "code",
   "source": "embeddings = head",
   "id": "5fef29185b12e15e",
   "outputs": [],
   "execution_count": 3
  },
  {
   "metadata": {
    "ExecuteTime": {
     "end_time": "2025-03-17T20:57:50.768772Z",
     "start_time": "2025-03-17T20:57:36.409157Z"
    }
   },
   "cell_type": "code",
   "source": [
    "# def find_self_embeds(embedding):\n",
    "start = 0\n",
    "end = len(embeddings)\n",
    "all_indices = np.array(range(end))\n",
    "batch_size = 10000\n",
    "batches = [\n",
    "    range(i, min(i + batch_size, end)) for i in range(start, end, batch_size)\n",
    "]\n",
    "eqs = []\n",
    "embeddings = embeddings.cuda()\n",
    "\n",
    "for batch in tqdm(batches):\n",
    "    indices = np.array(list(batch))\n",
    "    X = embeddings[batch]\n",
    "    w = np.array(torch.argmax(X @ embeddings.T, dim=-1).cpu())\n",
    "    eq = indices == w\n",
    "    eqs.extend(eq)\n",
    "eqs = np.array(eqs)\n",
    "print(f\"failed matching = {sum(~eqs)}\")\n",
    "fail_indices = all_indices[~eqs]"
   ],
   "id": "7afc825d900aeefc",
   "outputs": [
    {
     "name": "stderr",
     "output_type": "stream",
     "text": [
      "  0%|          | 0/13 [00:00<?, ?it/s]C:\\Users\\Timur\\AppData\\Local\\Temp\\ipykernel_5168\\2878507353.py:15: DeprecationWarning: __array__ implementation doesn't accept a copy keyword, so passing copy=False failed. __array__ must implement 'dtype' and 'copy' keyword arguments.\n",
      "  w = np.array(torch.argmax(X @ embeddings.T, dim=-1).cpu())\n",
      "100%|██████████| 13/13 [00:13<00:00,  1.07s/it]"
     ]
    },
    {
     "name": "stdout",
     "output_type": "stream",
     "text": [
      "failed matching = 615\n"
     ]
    },
    {
     "name": "stderr",
     "output_type": "stream",
     "text": [
      "\n"
     ]
    }
   ],
   "execution_count": 4
  },
  {
   "metadata": {
    "ExecuteTime": {
     "end_time": "2025-03-17T20:57:52.715065Z",
     "start_time": "2025-03-17T20:57:50.953689Z"
    }
   },
   "cell_type": "code",
   "source": [
    "shadow_ratios = []\n",
    "for ind in fail_indices:\n",
    "    max_sims = torch.sort(embeddings[ind]@embeddings.T, descending=True)[0][:3]\n",
    "    max_sim = max_sims[0]\n",
    "    true_sim = embeddings[ind]@embeddings[ind]\n",
    "    true_ratio = true_sim / max_sim\n",
    "    max_ratio = max_sims[1] / max_sim\n",
    "    max_ratio_2 = max_sims[2] / max_sim\n",
    "    shadow_ratios.append((ind, true_ratio.item(), max_ratio.item(), max_ratio_2.item()))\n",
    "shadow_ratios_sorted = sorted(shadow_ratios, key=lambda x: x[1], reverse = True);"
   ],
   "id": "e8946f32374c8154",
   "outputs": [],
   "execution_count": 5
  },
  {
   "metadata": {
    "ExecuteTime": {
     "end_time": "2025-03-17T20:57:52.775735Z",
     "start_time": "2025-03-17T20:57:52.754805Z"
    }
   },
   "cell_type": "code",
   "source": [
    "n = 10\n",
    "embeddings_cut = embeddings[:10000]\n",
    "embeddings_others = torch.cat((embeddings_cut[:n], embeddings_cut[n+1:]), dim=0).detach().cpu()\n",
    "self_emb = embeddings_cut[n].detach().cpu()"
   ],
   "id": "625b514938fed3e8",
   "outputs": [],
   "execution_count": 6
  },
  {
   "metadata": {
    "ExecuteTime": {
     "end_time": "2025-03-17T20:57:52.834516Z",
     "start_time": "2025-03-17T20:57:52.814560Z"
    }
   },
   "cell_type": "code",
   "source": [
    "A = self_emb - embeddings_others\n",
    "torch.all(A@self_emb>0)"
   ],
   "id": "30e54874aff1efc7",
   "outputs": [
    {
     "data": {
      "text/plain": [
       "tensor(True)"
      ]
     },
     "execution_count": 7,
     "metadata": {},
     "output_type": "execute_result"
    }
   ],
   "execution_count": 7
  },
  {
   "metadata": {
    "ExecuteTime": {
     "end_time": "2025-03-17T20:57:52.884206Z",
     "start_time": "2025-03-17T20:57:52.881112Z"
    }
   },
   "cell_type": "code",
   "source": "from scipy.optimize import linprog",
   "id": "452b400be54728ae",
   "outputs": [],
   "execution_count": 8
  },
  {
   "metadata": {
    "jupyter": {
     "is_executing": true
    },
    "ExecuteTime": {
     "start_time": "2025-03-17T20:59:30.169269Z"
    }
   },
   "cell_type": "code",
   "source": [
    "n, d = A.shape  # A is (n, d), x is (n,)\n",
    "epsilon=1e-6\n",
    "\n",
    "c = np.zeros(d)  # No objective function, just feasibility\n",
    "bounds = [(None, None)] * d  # x can take any value\n",
    "\n",
    "res = linprog(c, A_ub=-A, b_ub=-epsilon * np.ones(n), bounds=bounds, method='highs')"
   ],
   "id": "38853639399f3cb",
   "outputs": [],
   "execution_count": null
  },
  {
   "metadata": {},
   "cell_type": "code",
   "outputs": [],
   "execution_count": null,
   "source": "",
   "id": "cc57ca631a01cc51"
  },
  {
   "metadata": {},
   "cell_type": "code",
   "outputs": [],
   "execution_count": null,
   "source": "",
   "id": "f8854fb64ce3c076"
  },
  {
   "metadata": {
    "ExecuteTime": {
     "end_time": "2025-03-17T16:06:30.928470Z",
     "start_time": "2025-03-17T16:06:30.925433Z"
    }
   },
   "cell_type": "code",
   "source": [
    "# from numpy.linalg import svd\n",
    "# from scipy.linalg import svd\n",
    "from torch.linalg import svd"
   ],
   "id": "5d8f8017a2fe9912",
   "outputs": [],
   "execution_count": 22
  },
  {
   "metadata": {
    "ExecuteTime": {
     "end_time": "2025-03-17T16:59:52.678531Z",
     "start_time": "2025-03-17T16:59:42.803147Z"
    }
   },
   "cell_type": "code",
   "source": [
    "# U, S, Vt = svd(A.T, full_matrices=True)\n",
    "U, S, Vt = svd(A.T)"
   ],
   "id": "355aab1731cb8688",
   "outputs": [],
   "execution_count": 67
  },
  {
   "metadata": {
    "ExecuteTime": {
     "end_time": "2025-03-17T17:00:01.968727Z",
     "start_time": "2025-03-17T17:00:01.946994Z"
    }
   },
   "cell_type": "code",
   "source": [
    "# Null space basis vectors correspond to zero singular values\n",
    "tol = 1e-10  # Tolerance to detect numerical zeros\n",
    "null_space = Vt[S < tol] # Extract null space basis"
   ],
   "id": "e4246d39e0c00517",
   "outputs": [
    {
     "ename": "IndexError",
     "evalue": "The shape of the mask [2048] at index 0 does not match the shape of the indexed tensor [9999, 9999] at index 0",
     "output_type": "error",
     "traceback": [
      "\u001B[31m---------------------------------------------------------------------------\u001B[39m",
      "\u001B[31mIndexError\u001B[39m                                Traceback (most recent call last)",
      "\u001B[36mCell\u001B[39m\u001B[36m \u001B[39m\u001B[32mIn[68]\u001B[39m\u001B[32m, line 3\u001B[39m\n\u001B[32m      1\u001B[39m \u001B[38;5;66;03m# Null space basis vectors correspond to zero singular values\u001B[39;00m\n\u001B[32m      2\u001B[39m tol = \u001B[32m1e-10\u001B[39m  \u001B[38;5;66;03m# Tolerance to detect numerical zeros\u001B[39;00m\n\u001B[32m----> \u001B[39m\u001B[32m3\u001B[39m null_space = \u001B[43mVt\u001B[49m\u001B[43m[\u001B[49m\u001B[43mS\u001B[49m\u001B[43m \u001B[49m\u001B[43m<\u001B[49m\u001B[43m \u001B[49m\u001B[43mtol\u001B[49m\u001B[43m]\u001B[49m \u001B[38;5;66;03m# Extract null space basis\u001B[39;00m\n",
      "\u001B[31mIndexError\u001B[39m: The shape of the mask [2048] at index 0 does not match the shape of the indexed tensor [9999, 9999] at index 0"
     ]
    }
   ],
   "execution_count": 68
  },
  {
   "metadata": {
    "ExecuteTime": {
     "end_time": "2025-03-17T17:00:24.372036Z",
     "start_time": "2025-03-17T17:00:16.459237Z"
    }
   },
   "cell_type": "code",
   "source": "torch.linalg.matrix_rank(A.T)",
   "id": "cebf25a7c29e05dc",
   "outputs": [
    {
     "data": {
      "text/plain": [
       "tensor(2048)"
      ]
     },
     "execution_count": 70,
     "metadata": {},
     "output_type": "execute_result"
    }
   ],
   "execution_count": 70
  },
  {
   "metadata": {
    "ExecuteTime": {
     "end_time": "2025-03-17T19:52:27.435156Z",
     "start_time": "2025-03-17T19:52:27.431088Z"
    }
   },
   "cell_type": "code",
   "source": [
    "import numpy as np\n",
    "from scipy.optimize import linprog"
   ],
   "id": "aced2e938dd50719",
   "outputs": [],
   "execution_count": 73
  },
  {
   "metadata": {
    "ExecuteTime": {
     "end_time": "2025-03-17T20:07:30.661664Z",
     "start_time": "2025-03-17T20:06:01.046869Z"
    }
   },
   "cell_type": "code",
   "source": [
    "d, n = A.T.shape\n",
    "epsilon=1e-6\n",
    "\n",
    "c = np.zeros(n)\n",
    "bounds = [(epsilon, None)] * n  # Enforce strict positivity (x_i > epsilon)\n",
    "res = linprog(c, A_eq=A.T, b_eq=np.zeros(d), bounds=bounds, method='highs')"
   ],
   "id": "79983c1856295dab",
   "outputs": [],
   "execution_count": 86
  },
  {
   "metadata": {
    "ExecuteTime": {
     "end_time": "2025-03-17T19:55:41.926560Z",
     "start_time": "2025-03-17T19:55:41.922786Z"
    }
   },
   "cell_type": "code",
   "source": "qq = res",
   "id": "2b758e405e077e1d",
   "outputs": [],
   "execution_count": 78
  },
  {
   "metadata": {
    "ExecuteTime": {
     "end_time": "2025-03-17T19:58:43.491111Z",
     "start_time": "2025-03-17T19:58:43.487778Z"
    }
   },
   "cell_type": "code",
   "source": "res",
   "id": "a6a35ce825d2b69d",
   "outputs": [
    {
     "data": {
      "text/plain": [
       "       message: The problem is infeasible. (HiGHS Status 8: model_status is Infeasible; primal_status is Infeasible)\n",
       "       success: False\n",
       "        status: 2\n",
       "           fun: None\n",
       "             x: None\n",
       "           nit: 69\n",
       "         lower:  residual: None\n",
       "                marginals: None\n",
       "         upper:  residual: None\n",
       "                marginals: None\n",
       "         eqlin:  residual: None\n",
       "                marginals: None\n",
       "       ineqlin:  residual: None\n",
       "                marginals: None"
      ]
     },
     "execution_count": 83,
     "metadata": {},
     "output_type": "execute_result"
    }
   ],
   "execution_count": 83
  },
  {
   "metadata": {},
   "cell_type": "code",
   "outputs": [],
   "execution_count": null,
   "source": "",
   "id": "3b41f3d5aaae134b"
  }
 ],
 "metadata": {
  "kernelspec": {
   "display_name": "Python 3",
   "language": "python",
   "name": "python3"
  },
  "language_info": {
   "codemirror_mode": {
    "name": "ipython",
    "version": 2
   },
   "file_extension": ".py",
   "mimetype": "text/x-python",
   "name": "python",
   "nbconvert_exporter": "python",
   "pygments_lexer": "ipython2",
   "version": "2.7.6"
  }
 },
 "nbformat": 4,
 "nbformat_minor": 5
}
